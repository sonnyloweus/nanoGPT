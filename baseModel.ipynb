{
 "cells": [
  {
   "cell_type": "markdown",
   "id": "c62f40dd",
   "metadata": {
    "papermill": {
     "duration": 0.01156,
     "end_time": "2024-06-11T22:51:57.061988",
     "exception": false,
     "start_time": "2024-06-11T22:51:57.050428",
     "status": "completed"
    },
    "tags": []
   },
   "source": [
    "# A nanoGPT Decoder\n",
    "\n",
    "Implementing a self-attention and feed forward architecture for GPT decoding. \n",
    "\n",
    "It mimics GPT with its scaled behavior by tockenizing and generating shakespeare.\n",
    "\n",
    "Base skeleton code is from: https://colab.research.google.com/drive/1JMLa53HDuA-i7ZBmqV7ZnA3c_fvtXnx-?usp=sharing"
   ]
  },
  {
   "cell_type": "markdown",
   "id": "55b51eb2",
   "metadata": {
    "papermill": {
     "duration": 0.010736,
     "end_time": "2024-06-11T22:51:57.084053",
     "exception": false,
     "start_time": "2024-06-11T22:51:57.073317",
     "status": "completed"
    },
    "tags": []
   },
   "source": [
    "# Data Processing"
   ]
  },
  {
   "cell_type": "code",
   "execution_count": 1,
   "id": "1eefe469",
   "metadata": {
    "execution": {
     "iopub.execute_input": "2024-06-11T22:51:57.109638Z",
     "iopub.status.busy": "2024-06-11T22:51:57.109130Z",
     "iopub.status.idle": "2024-06-11T22:51:58.172911Z",
     "shell.execute_reply": "2024-06-11T22:51:58.171027Z"
    },
    "papermill": {
     "duration": 1.080199,
     "end_time": "2024-06-11T22:51:58.175739",
     "exception": false,
     "start_time": "2024-06-11T22:51:57.095540",
     "status": "completed"
    },
    "tags": []
   },
   "outputs": [
    {
     "name": "stdout",
     "output_type": "stream",
     "text": [
      "/kaggle/input/shakespeare/text.txt\n"
     ]
    }
   ],
   "source": [
    "import numpy as np\n",
    "import pandas as pd\n",
    "\n",
    "import os\n",
    "for dirname, _, filenames in os.walk('/kaggle/input'):\n",
    "    for filename in filenames:\n",
    "        print(os.path.join(dirname, filename))"
   ]
  },
  {
   "cell_type": "code",
   "execution_count": 2,
   "id": "7e9be9a2",
   "metadata": {
    "execution": {
     "iopub.execute_input": "2024-06-11T22:51:58.201122Z",
     "iopub.status.busy": "2024-06-11T22:51:58.200552Z",
     "iopub.status.idle": "2024-06-11T22:51:58.245398Z",
     "shell.execute_reply": "2024-06-11T22:51:58.244191Z"
    },
    "papermill": {
     "duration": 0.060569,
     "end_time": "2024-06-11T22:51:58.248345",
     "exception": false,
     "start_time": "2024-06-11T22:51:58.187776",
     "status": "completed"
    },
    "tags": []
   },
   "outputs": [
    {
     "name": "stdout",
     "output_type": "stream",
     "text": [
      "Length: 1115393\n",
      "First Citizen:\n",
      "Before we proceed any further, hear me speak.\n"
     ]
    }
   ],
   "source": [
    "text = open('../input/shakespeare/text.txt').read() \n",
    "print('Length:', len(text))\n",
    "# Print first 60 characters\n",
    "print(text[:60])"
   ]
  },
  {
   "cell_type": "markdown",
   "id": "2b5407b5",
   "metadata": {
    "papermill": {
     "duration": 0.010878,
     "end_time": "2024-06-11T22:51:58.270600",
     "exception": false,
     "start_time": "2024-06-11T22:51:58.259722",
     "status": "completed"
    },
    "tags": []
   },
   "source": [
    "**Building our vocabulary and Tokenization Logic**"
   ]
  },
  {
   "cell_type": "code",
   "execution_count": 3,
   "id": "debc67e6",
   "metadata": {
    "execution": {
     "iopub.execute_input": "2024-06-11T22:51:58.296152Z",
     "iopub.status.busy": "2024-06-11T22:51:58.295357Z",
     "iopub.status.idle": "2024-06-11T22:51:58.322466Z",
     "shell.execute_reply": "2024-06-11T22:51:58.321066Z"
    },
    "papermill": {
     "duration": 0.042836,
     "end_time": "2024-06-11T22:51:58.325213",
     "exception": false,
     "start_time": "2024-06-11T22:51:58.282377",
     "status": "completed"
    },
    "tags": []
   },
   "outputs": [
    {
     "name": "stdout",
     "output_type": "stream",
     "text": [
      "Vocab Size:  65\n",
      "['\\n', ' ', '!', '$', '&', \"'\", ',', '-', '.', '3', ':', ';', '?', 'A', 'B', 'C', 'D', 'E', 'F', 'G', 'H', 'I', 'J', 'K', 'L', 'M', 'N', 'O', 'P', 'Q', 'R', 'S', 'T', 'U', 'V', 'W', 'X', 'Y', 'Z', 'a', 'b', 'c', 'd', 'e', 'f', 'g', 'h', 'i', 'j', 'k', 'l', 'm', 'n', 'o', 'p', 'q', 'r', 's', 't', 'u', 'v', 'w', 'x', 'y', 'z']\n"
     ]
    }
   ],
   "source": [
    "chars = sorted(list(set(text)))\n",
    "vocab_size = len(chars)\n",
    "print(\"Vocab Size: \", vocab_size)\n",
    "print(chars)"
   ]
  },
  {
   "cell_type": "markdown",
   "id": "47e9c095",
   "metadata": {
    "papermill": {
     "duration": 0.010981,
     "end_time": "2024-06-11T22:51:58.347671",
     "exception": false,
     "start_time": "2024-06-11T22:51:58.336690",
     "status": "completed"
    },
    "tags": []
   },
   "source": [
    "Character tokenization. Google has **SentencePiece** sub-word units tokenizer while OpenAI uses **tiktoken**. These are not character level but not word level either. Rather, they are short sub-word length tokens."
   ]
  },
  {
   "cell_type": "code",
   "execution_count": 4,
   "id": "5f98567a",
   "metadata": {
    "execution": {
     "iopub.execute_input": "2024-06-11T22:51:58.372628Z",
     "iopub.status.busy": "2024-06-11T22:51:58.372167Z",
     "iopub.status.idle": "2024-06-11T22:51:58.380776Z",
     "shell.execute_reply": "2024-06-11T22:51:58.379427Z"
    },
    "papermill": {
     "duration": 0.024178,
     "end_time": "2024-06-11T22:51:58.383659",
     "exception": false,
     "start_time": "2024-06-11T22:51:58.359481",
     "status": "completed"
    },
    "tags": []
   },
   "outputs": [
    {
     "name": "stdout",
     "output_type": "stream",
     "text": [
      "[46, 43, 50, 50, 53, 1, 61, 53, 56, 50, 42]\n",
      "hello world\n"
     ]
    }
   ],
   "source": [
    "# String to Integer\n",
    "stoi = {ch:i for i,ch in enumerate(chars)}\n",
    "# Integer to String\n",
    "itos = {i:ch for i,ch in enumerate(chars)}\n",
    "\n",
    "encode = lambda s: [stoi[c] for c in s] \n",
    "decode = lambda l: ''.join([itos[i] for i in l])\n",
    "\n",
    "print(encode(\"hello world\"))\n",
    "print(decode(encode(\"hello world\")))"
   ]
  },
  {
   "cell_type": "markdown",
   "id": "f14fab48",
   "metadata": {
    "papermill": {
     "duration": 0.011139,
     "end_time": "2024-06-11T22:51:58.406310",
     "exception": false,
     "start_time": "2024-06-11T22:51:58.395171",
     "status": "completed"
    },
    "tags": []
   },
   "source": [
    "**Tockenize entire chunk of shakespeare.**"
   ]
  },
  {
   "cell_type": "code",
   "execution_count": 5,
   "id": "60b28e83",
   "metadata": {
    "execution": {
     "iopub.execute_input": "2024-06-11T22:51:58.432207Z",
     "iopub.status.busy": "2024-06-11T22:51:58.431771Z",
     "iopub.status.idle": "2024-06-11T22:52:02.946262Z",
     "shell.execute_reply": "2024-06-11T22:52:02.944974Z"
    },
    "papermill": {
     "duration": 4.53086,
     "end_time": "2024-06-11T22:52:02.949008",
     "exception": false,
     "start_time": "2024-06-11T22:51:58.418148",
     "status": "completed"
    },
    "tags": []
   },
   "outputs": [
    {
     "name": "stdout",
     "output_type": "stream",
     "text": [
      "torch.Size([1115393]) torch.int64\n",
      "tensor([18, 47, 56, 57, 58,  1, 15, 47, 58, 47, 64, 43, 52, 10,  0, 14, 43, 44,\n",
      "        53, 56, 43,  1, 61, 43,  1, 54, 56, 53, 41, 43, 43, 42,  1, 39, 52, 63,\n",
      "         1, 44, 59, 56, 58, 46, 43, 56,  6,  1, 46, 43, 39, 56,  1, 51, 43,  1,\n",
      "        57, 54, 43, 39, 49,  8])\n"
     ]
    }
   ],
   "source": [
    "import torch\n",
    "data = torch.tensor(encode(text), dtype=torch.long)\n",
    "# Print first 60 encoded characters\n",
    "print(data.shape, data.dtype)\n",
    "print(data[:60])"
   ]
  },
  {
   "cell_type": "markdown",
   "id": "afbde908",
   "metadata": {
    "papermill": {
     "duration": 0.011095,
     "end_time": "2024-06-11T22:52:02.972184",
     "exception": false,
     "start_time": "2024-06-11T22:52:02.961089",
     "status": "completed"
    },
    "tags": []
   },
   "source": [
    "Separate dataset into train and validation (splitting) at a splitting percentage."
   ]
  },
  {
   "cell_type": "code",
   "execution_count": 6,
   "id": "31cce0df",
   "metadata": {
    "execution": {
     "iopub.execute_input": "2024-06-11T22:52:02.997243Z",
     "iopub.status.busy": "2024-06-11T22:52:02.996689Z",
     "iopub.status.idle": "2024-06-11T22:52:03.003013Z",
     "shell.execute_reply": "2024-06-11T22:52:03.001748Z"
    },
    "papermill": {
     "duration": 0.022091,
     "end_time": "2024-06-11T22:52:03.005718",
     "exception": false,
     "start_time": "2024-06-11T22:52:02.983627",
     "status": "completed"
    },
    "tags": []
   },
   "outputs": [],
   "source": [
    "portion = 0.9\n",
    "n = int(portion*len(data))\n",
    "train_data = data[:n]\n",
    "val_data = data[n:]"
   ]
  },
  {
   "cell_type": "markdown",
   "id": "2b7bbeaf",
   "metadata": {
    "papermill": {
     "duration": 0.012039,
     "end_time": "2024-06-11T22:52:03.029222",
     "exception": false,
     "start_time": "2024-06-11T22:52:03.017183",
     "status": "completed"
    },
    "tags": []
   },
   "source": [
    "# Data Loading\n",
    "Creating batches of our data to feed our eventual transformer, because putting them all at once is simply too computationally taxing. The transformer will be able to predict sequences from 1 to the maximal block_size. For inputs longer than block_size they are truncated."
   ]
  },
  {
   "cell_type": "code",
   "execution_count": 7,
   "id": "e9318b75",
   "metadata": {
    "execution": {
     "iopub.execute_input": "2024-06-11T22:52:03.054426Z",
     "iopub.status.busy": "2024-06-11T22:52:03.054026Z",
     "iopub.status.idle": "2024-06-11T22:52:03.059712Z",
     "shell.execute_reply": "2024-06-11T22:52:03.058495Z"
    },
    "papermill": {
     "duration": 0.021422,
     "end_time": "2024-06-11T22:52:03.062505",
     "exception": false,
     "start_time": "2024-06-11T22:52:03.041083",
     "status": "completed"
    },
    "tags": []
   },
   "outputs": [],
   "source": [
    "block_size = 8 # maximum context length for predictions\n",
    "batch_size = 4 # how many sequences we are parallel processing at once"
   ]
  },
  {
   "cell_type": "code",
   "execution_count": 8,
   "id": "2e86823a",
   "metadata": {
    "execution": {
     "iopub.execute_input": "2024-06-11T22:52:03.094143Z",
     "iopub.status.busy": "2024-06-11T22:52:03.093631Z",
     "iopub.status.idle": "2024-06-11T22:52:03.137277Z",
     "shell.execute_reply": "2024-06-11T22:52:03.135877Z"
    },
    "papermill": {
     "duration": 0.06223,
     "end_time": "2024-06-11T22:52:03.140798",
     "exception": false,
     "start_time": "2024-06-11T22:52:03.078568",
     "status": "completed"
    },
    "tags": []
   },
   "outputs": [
    {
     "name": "stdout",
     "output_type": "stream",
     "text": [
      "Inputs:\n",
      "torch.Size([4, 8])\n",
      "tensor([[63,  1, 40, 43, 45, 47, 52, 57],\n",
      "        [ 0,  0, 16, 33, 23, 17,  1, 34],\n",
      "        [56, 53, 61, 11,  0, 19, 50, 53],\n",
      "        [43, 52, 58,  0, 32, 46, 43,  1]])\n",
      "Targets:\n",
      "torch.Size([4, 8])\n",
      "tensor([[ 1, 40, 43, 45, 47, 52, 57,  1],\n",
      "        [ 0, 16, 33, 23, 17,  1, 34, 21],\n",
      "        [53, 61, 11,  0, 19, 50, 53, 60],\n",
      "        [52, 58,  0, 32, 46, 43,  1, 59]])\n"
     ]
    }
   ],
   "source": [
    "def get_batch(split):\n",
    "    data = train_data if split == 'train' else val_data\n",
    "    ix = torch.randint(len(data)-block_size, (batch_size,))\n",
    "    x = torch.stack([data[i:i+block_size] for i in ix])\n",
    "    y = torch.stack([data[i+1:i+block_size+1] for i in ix])\n",
    "    return x, y # x is the training and y is the answers\n",
    "\n",
    "xb, yb = get_batch('train')\n",
    "print(\"Inputs:\")\n",
    "print(xb.shape)\n",
    "print(xb)\n",
    "print(\"Targets:\")\n",
    "print(yb.shape)\n",
    "print(yb)\n",
    "\n"
   ]
  },
  {
   "cell_type": "markdown",
   "id": "d8cd76f5",
   "metadata": {
    "papermill": {
     "duration": 0.01163,
     "end_time": "2024-06-11T22:52:03.166958",
     "exception": false,
     "start_time": "2024-06-11T22:52:03.155328",
     "status": "completed"
    },
    "tags": []
   },
   "source": [
    "# Modeling (BigramLanguageModel)\n",
    "\n",
    "Very simple model as a baseline."
   ]
  },
  {
   "cell_type": "code",
   "execution_count": 9,
   "id": "49883377",
   "metadata": {
    "execution": {
     "iopub.execute_input": "2024-06-11T22:52:03.193073Z",
     "iopub.status.busy": "2024-06-11T22:52:03.192658Z",
     "iopub.status.idle": "2024-06-11T22:52:03.268559Z",
     "shell.execute_reply": "2024-06-11T22:52:03.267020Z"
    },
    "papermill": {
     "duration": 0.091787,
     "end_time": "2024-06-11T22:52:03.271373",
     "exception": false,
     "start_time": "2024-06-11T22:52:03.179586",
     "status": "completed"
    },
    "tags": []
   },
   "outputs": [
    {
     "name": "stdout",
     "output_type": "stream",
     "text": [
      "torch.Size([32, 65])\n",
      "tensor(4.8089, grad_fn=<NllLossBackward0>)\n"
     ]
    }
   ],
   "source": [
    "import torch.nn as nn\n",
    "from torch.nn import functional as F\n",
    "\n",
    "class BigramLanguageModel(nn.Module):\n",
    "    \n",
    "    def __init__(self, vocab_size):\n",
    "        super().__init__()\n",
    "        self.token_embedding_table = nn.Embedding(vocab_size, vocab_size)\n",
    "        \n",
    "    def forward(self, idx, targets=None):\n",
    "        logits = self.token_embedding_table(idx)\n",
    "        \n",
    "        if targets is None:\n",
    "            loss = None\n",
    "        else:\n",
    "            B, T, C = logits.shape\n",
    "            logits = logits.view(B*T, C)\n",
    "            targets = targets.view(B*T)\n",
    "            loss = F.cross_entropy(logits, targets)\n",
    "        return logits, loss\n",
    "    \n",
    "    def generate(self, idx, max_new_tokens):\n",
    "        for _ in range(max_new_tokens):\n",
    "            logits, loss = self(idx)\n",
    "            logits = logits[:, -1, :]\n",
    "            probs = F.softmax(logits, dim=-1)\n",
    "            idx_next = torch.multinomial(probs, num_samples=1)\n",
    "            idx = torch.cat((idx, idx_next), dim=1)\n",
    "        return idx\n",
    "    \n",
    "model = BigramLanguageModel(vocab_size)\n",
    "logits, loss = model(xb, yb)\n",
    "print(logits.shape)\n",
    "print(loss)"
   ]
  },
  {
   "cell_type": "markdown",
   "id": "db7bdb4a",
   "metadata": {
    "papermill": {
     "duration": 0.01132,
     "end_time": "2024-06-11T22:52:03.294381",
     "exception": false,
     "start_time": "2024-06-11T22:52:03.283061",
     "status": "completed"
    },
    "tags": []
   },
   "source": [
    "**Testing without training:**\n",
    "Expect Jibberish"
   ]
  },
  {
   "cell_type": "code",
   "execution_count": 10,
   "id": "af7bca3f",
   "metadata": {
    "execution": {
     "iopub.execute_input": "2024-06-11T22:52:03.319385Z",
     "iopub.status.busy": "2024-06-11T22:52:03.318990Z",
     "iopub.status.idle": "2024-06-11T22:52:03.365273Z",
     "shell.execute_reply": "2024-06-11T22:52:03.363952Z"
    },
    "papermill": {
     "duration": 0.062035,
     "end_time": "2024-06-11T22:52:03.368085",
     "exception": false,
     "start_time": "2024-06-11T22:52:03.306050",
     "status": "completed"
    },
    "tags": []
   },
   "outputs": [
    {
     "name": "stdout",
     "output_type": "stream",
     "text": [
      "\n",
      "fWBEuvY'YR;kSVN.ID  qVD C3:r'.,e:blFWDlW.rTXjpeBNYhcomdRvNOwadiySTx'&PqExJaZcXOZ&G\n",
      "sm 'HMtkXnpfcJyvK\n"
     ]
    }
   ],
   "source": [
    "pred = model.generate(torch.zeros((1,1), dtype=torch.long), max_new_tokens=100)\n",
    "print(decode(pred[0].tolist()))"
   ]
  },
  {
   "cell_type": "markdown",
   "id": "a120daca",
   "metadata": {
    "papermill": {
     "duration": 0.011338,
     "end_time": "2024-06-11T22:52:03.391301",
     "exception": false,
     "start_time": "2024-06-11T22:52:03.379963",
     "status": "completed"
    },
    "tags": []
   },
   "source": [
    "Training this baseline model over 15000 iterations/epochs to get a closer generation (but still not close at all)."
   ]
  },
  {
   "cell_type": "code",
   "execution_count": 11,
   "id": "e3a27331",
   "metadata": {
    "execution": {
     "iopub.execute_input": "2024-06-11T22:52:03.417565Z",
     "iopub.status.busy": "2024-06-11T22:52:03.417153Z",
     "iopub.status.idle": "2024-06-11T22:52:35.004997Z",
     "shell.execute_reply": "2024-06-11T22:52:35.003387Z"
    },
    "papermill": {
     "duration": 31.616228,
     "end_time": "2024-06-11T22:52:35.019781",
     "exception": false,
     "start_time": "2024-06-11T22:52:03.403553",
     "status": "completed"
    },
    "tags": []
   },
   "outputs": [
    {
     "name": "stdout",
     "output_type": "stream",
     "text": [
      "2.569352865219116\n"
     ]
    }
   ],
   "source": [
    "# creating the optimizer object.\n",
    "optimizer = torch.optim.AdamW(model.parameters(), lr=3e-4)\n",
    "\n",
    "batch_size = 32\n",
    "epochs = 15000\n",
    "for steps in range(epochs):\n",
    "    \n",
    "    xb, yb = get_batch('train')\n",
    "    \n",
    "    logits, loss = model(xb, yb)\n",
    "    optimizer.zero_grad(set_to_none=True)\n",
    "    loss.backward()\n",
    "    optimizer.step()\n",
    "    \n",
    "print(loss.item())"
   ]
  },
  {
   "cell_type": "code",
   "execution_count": 12,
   "id": "b0506306",
   "metadata": {
    "execution": {
     "iopub.execute_input": "2024-06-11T22:52:35.045922Z",
     "iopub.status.busy": "2024-06-11T22:52:35.045323Z",
     "iopub.status.idle": "2024-06-11T22:52:35.067214Z",
     "shell.execute_reply": "2024-06-11T22:52:35.065680Z"
    },
    "papermill": {
     "duration": 0.038012,
     "end_time": "2024-06-11T22:52:35.070012",
     "exception": false,
     "start_time": "2024-06-11T22:52:35.032000",
     "status": "completed"
    },
    "tags": []
   },
   "outputs": [
    {
     "name": "stdout",
     "output_type": "stream",
     "text": [
      "\n",
      "o dsman nghe:\n",
      "F thite nd\n",
      "Yls will!\n",
      "KIO -merehen y tot theneee RWeff he resis ve lil anoilery w INAy \n"
     ]
    }
   ],
   "source": [
    "idx = torch.zeros((1,1), dtype=torch.long)\n",
    "pred = model.generate(idx, max_new_tokens=100)\n",
    "print(decode(pred[0].tolist()))"
   ]
  },
  {
   "cell_type": "markdown",
   "id": "775088f9",
   "metadata": {
    "papermill": {
     "duration": 0.012207,
     "end_time": "2024-06-11T22:52:35.094877",
     "exception": false,
     "start_time": "2024-06-11T22:52:35.082670",
     "status": "completed"
    },
    "tags": []
   },
   "source": [
    "# Loss Improvements\n",
    "An improved loss estimation function to remove noise. And Hyperparameter tuning."
   ]
  },
  {
   "cell_type": "code",
   "execution_count": 13,
   "id": "f13da873",
   "metadata": {
    "execution": {
     "iopub.execute_input": "2024-06-11T22:52:35.121164Z",
     "iopub.status.busy": "2024-06-11T22:52:35.120759Z",
     "iopub.status.idle": "2024-06-11T22:52:59.824678Z",
     "shell.execute_reply": "2024-06-11T22:52:59.823506Z"
    },
    "papermill": {
     "duration": 24.720685,
     "end_time": "2024-06-11T22:52:59.827601",
     "exception": false,
     "start_time": "2024-06-11T22:52:35.106916",
     "status": "completed"
    },
    "tags": []
   },
   "outputs": [
    {
     "name": "stdout",
     "output_type": "stream",
     "text": [
      "step 0: train loss 2.5564, val loss 2.5619\n",
      "step 100: train loss 2.5510, val loss 2.5548\n",
      "step 200: train loss 2.5358, val loss 2.5435\n",
      "step 300: train loss 2.5351, val loss 2.5372\n",
      "step 400: train loss 2.5226, val loss 2.5343\n",
      "step 500: train loss 2.5202, val loss 2.5325\n",
      "step 600: train loss 2.5208, val loss 2.5187\n",
      "step 700: train loss 2.5120, val loss 2.5218\n",
      "step 800: train loss 2.5079, val loss 2.5151\n",
      "step 900: train loss 2.5045, val loss 2.5156\n",
      "step 1000: train loss 2.5001, val loss 2.5217\n",
      "step 1100: train loss 2.4987, val loss 2.5094\n",
      "step 1200: train loss 2.4983, val loss 2.5057\n",
      "step 1300: train loss 2.4950, val loss 2.5020\n",
      "step 1400: train loss 2.4864, val loss 2.5079\n",
      "step 1500: train loss 2.4952, val loss 2.5000\n",
      "step 1600: train loss 2.4894, val loss 2.5025\n",
      "step 1700: train loss 2.4894, val loss 2.4957\n",
      "step 1800: train loss 2.4795, val loss 2.4938\n",
      "step 1900: train loss 2.4858, val loss 2.4941\n",
      "step 2000: train loss 2.4815, val loss 2.4922\n",
      "step 2100: train loss 2.4829, val loss 2.4943\n",
      "step 2200: train loss 2.4778, val loss 2.4971\n",
      "step 2300: train loss 2.4771, val loss 2.4968\n",
      "step 2400: train loss 2.4749, val loss 2.4913\n",
      "step 2500: train loss 2.4740, val loss 2.4932\n",
      "step 2600: train loss 2.4725, val loss 2.4907\n",
      "step 2700: train loss 2.4695, val loss 2.4927\n",
      "step 2800: train loss 2.4724, val loss 2.4843\n",
      "step 2900: train loss 2.4704, val loss 2.4867\n",
      "step 3000: train loss 2.4674, val loss 2.4879\n",
      "step 3100: train loss 2.4654, val loss 2.4925\n",
      "step 3200: train loss 2.4673, val loss 2.4861\n",
      "step 3300: train loss 2.4621, val loss 2.4805\n",
      "step 3400: train loss 2.4642, val loss 2.4898\n",
      "step 3500: train loss 2.4695, val loss 2.4836\n",
      "step 3600: train loss 2.4722, val loss 2.4904\n",
      "step 3700: train loss 2.4659, val loss 2.4849\n",
      "step 3800: train loss 2.4675, val loss 2.4853\n",
      "step 3900: train loss 2.4655, val loss 2.4876\n",
      "step 4000: train loss 2.4682, val loss 2.4889\n",
      "step 4100: train loss 2.4623, val loss 2.4884\n",
      "step 4200: train loss 2.4584, val loss 2.4904\n",
      "step 4300: train loss 2.4639, val loss 2.4826\n",
      "step 4400: train loss 2.4601, val loss 2.4884\n",
      "step 4500: train loss 2.4611, val loss 2.4845\n",
      "step 4600: train loss 2.4568, val loss 2.4892\n",
      "step 4700: train loss 2.4622, val loss 2.4841\n",
      "step 4800: train loss 2.4588, val loss 2.4823\n",
      "step 4900: train loss 2.4599, val loss 2.4845\n",
      "step 4999: train loss 2.4627, val loss 2.4748\n"
     ]
    }
   ],
   "source": [
    "batch_size = 16 \n",
    "block_size = 32 \n",
    "max_iters = 5000\n",
    "eval_interval = 100\n",
    "learning_rate = 1e-3\n",
    "eval_iters = 200\n",
    "\n",
    "@torch.no_grad()\n",
    "def estimate_loss():\n",
    "    out = {}\n",
    "    model.eval()\n",
    "    \n",
    "    for split in ['train', 'val']:\n",
    "        losses = torch.zeros(eval_iters)\n",
    "        for k in range(eval_iters):\n",
    "            X, Y = get_batch(split)\n",
    "            logits, loss = model(X, Y)\n",
    "            losses[k] = loss.item()\n",
    "        out[split] = losses.mean()\n",
    "    model.train()\n",
    "    return out\n",
    "\n",
    "\n",
    "optimizer = torch.optim.AdamW(model.parameters(), lr=learning_rate)\n",
    "\n",
    "for iter in range(max_iters):\n",
    "\n",
    "    # every once in a while evaluate the loss on train and val sets\n",
    "    if iter % eval_interval == 0 or iter == max_iters - 1:\n",
    "        losses = estimate_loss()\n",
    "        print(f\"step {iter}: train loss {losses['train']:.4f}, val loss {losses['val']:.4f}\")\n",
    "\n",
    "    # sample a batch of data\n",
    "    xb, yb = get_batch('train')\n",
    "\n",
    "    # evaluate the loss\n",
    "    logits, loss = model(xb, yb)\n",
    "    optimizer.zero_grad(set_to_none=True)\n",
    "    loss.backward()\n",
    "    optimizer.step()"
   ]
  },
  {
   "cell_type": "markdown",
   "id": "90524d2e",
   "metadata": {
    "papermill": {
     "duration": 0.016463,
     "end_time": "2024-06-11T22:52:59.860878",
     "exception": false,
     "start_time": "2024-06-11T22:52:59.844415",
     "status": "completed"
    },
    "tags": []
   },
   "source": [
    "# Mathematical Improvements\n",
    "Mathematical trick for self-attention block.\n",
    "Allowing tokens to communicate "
   ]
  },
  {
   "cell_type": "code",
   "execution_count": 14,
   "id": "dfdb002a",
   "metadata": {
    "execution": {
     "iopub.execute_input": "2024-06-11T22:52:59.897482Z",
     "iopub.status.busy": "2024-06-11T22:52:59.896275Z",
     "iopub.status.idle": "2024-06-11T22:52:59.905924Z",
     "shell.execute_reply": "2024-06-11T22:52:59.904779Z"
    },
    "papermill": {
     "duration": 0.030762,
     "end_time": "2024-06-11T22:52:59.908399",
     "exception": false,
     "start_time": "2024-06-11T22:52:59.877637",
     "status": "completed"
    },
    "tags": []
   },
   "outputs": [
    {
     "data": {
      "text/plain": [
       "torch.Size([4, 8, 2])"
      ]
     },
     "execution_count": 14,
     "metadata": {},
     "output_type": "execute_result"
    }
   ],
   "source": [
    "B,T,C = 4,8,2\n",
    "x = torch.randn(B,T,C)\n",
    "x.shape"
   ]
  },
  {
   "cell_type": "code",
   "execution_count": 15,
   "id": "a1c86877",
   "metadata": {
    "execution": {
     "iopub.execute_input": "2024-06-11T22:52:59.944632Z",
     "iopub.status.busy": "2024-06-11T22:52:59.944211Z",
     "iopub.status.idle": "2024-06-11T22:52:59.954307Z",
     "shell.execute_reply": "2024-06-11T22:52:59.952980Z"
    },
    "papermill": {
     "duration": 0.031325,
     "end_time": "2024-06-11T22:52:59.957071",
     "exception": false,
     "start_time": "2024-06-11T22:52:59.925746",
     "status": "completed"
    },
    "tags": []
   },
   "outputs": [],
   "source": [
    "# version 1\n",
    "xbow = torch.zeros((B,T,C))\n",
    "for b in range(B):\n",
    "    for t in range(T):\n",
    "        xprev = x[b,:t+1] # (t, C)\n",
    "        xbow[b,t] = torch.mean(xprev, 0)"
   ]
  },
  {
   "cell_type": "code",
   "execution_count": 16,
   "id": "935e0296",
   "metadata": {
    "execution": {
     "iopub.execute_input": "2024-06-11T22:52:59.992690Z",
     "iopub.status.busy": "2024-06-11T22:52:59.992267Z",
     "iopub.status.idle": "2024-06-11T22:53:00.004854Z",
     "shell.execute_reply": "2024-06-11T22:53:00.003654Z"
    },
    "papermill": {
     "duration": 0.03329,
     "end_time": "2024-06-11T22:53:00.007417",
     "exception": false,
     "start_time": "2024-06-11T22:52:59.974127",
     "status": "completed"
    },
    "tags": []
   },
   "outputs": [
    {
     "data": {
      "text/plain": [
       "True"
      ]
     },
     "execution_count": 16,
     "metadata": {},
     "output_type": "execute_result"
    }
   ],
   "source": [
    "# version 2: using matrix multiply for a weighted aggregation\n",
    "wei = torch.tril(torch.ones(T, T))\n",
    "wei = wei / wei.sum(1, keepdim=True)\n",
    "xbow2 = wei @ x # (B, T, T) @ (B, T, C) ----> (B, T, C)\n",
    "torch.allclose(xbow, xbow2)"
   ]
  },
  {
   "cell_type": "code",
   "execution_count": 17,
   "id": "945ee72a",
   "metadata": {
    "execution": {
     "iopub.execute_input": "2024-06-11T22:53:00.044054Z",
     "iopub.status.busy": "2024-06-11T22:53:00.043640Z",
     "iopub.status.idle": "2024-06-11T22:53:00.057947Z",
     "shell.execute_reply": "2024-06-11T22:53:00.056726Z"
    },
    "papermill": {
     "duration": 0.035598,
     "end_time": "2024-06-11T22:53:00.060954",
     "exception": false,
     "start_time": "2024-06-11T22:53:00.025356",
     "status": "completed"
    },
    "tags": []
   },
   "outputs": [
    {
     "data": {
      "text/plain": [
       "True"
      ]
     },
     "execution_count": 17,
     "metadata": {},
     "output_type": "execute_result"
    }
   ],
   "source": [
    "# version 3: use Softmax\n",
    "tril = torch.tril(torch.ones(T, T))\n",
    "wei = torch.zeros((T,T))\n",
    "wei = wei.masked_fill(tril == 0, float('-inf'))\n",
    "wei = F.softmax(wei, dim=-1)\n",
    "xbow3 = wei @ x\n",
    "torch.allclose(xbow, xbow3)"
   ]
  },
  {
   "cell_type": "markdown",
   "id": "2fc9dda6",
   "metadata": {
    "papermill": {
     "duration": 0.017745,
     "end_time": "2024-06-11T22:53:00.097626",
     "exception": false,
     "start_time": "2024-06-11T22:53:00.079881",
     "status": "completed"
    },
    "tags": []
   },
   "source": [
    "You can do weighted aggregations of your past elements by matrix multiplying a lower triangular matrix with entires that correspond to how much of each past element should fuse.\n",
    "\n",
    "An approach that follows this basic concept is called **self-attention**."
   ]
  },
  {
   "cell_type": "code",
   "execution_count": 18,
   "id": "a79a7779",
   "metadata": {
    "execution": {
     "iopub.execute_input": "2024-06-11T22:53:00.135072Z",
     "iopub.status.busy": "2024-06-11T22:53:00.134185Z",
     "iopub.status.idle": "2024-06-11T22:53:00.158201Z",
     "shell.execute_reply": "2024-06-11T22:53:00.156995Z"
    },
    "papermill": {
     "duration": 0.045334,
     "end_time": "2024-06-11T22:53:00.160996",
     "exception": false,
     "start_time": "2024-06-11T22:53:00.115662",
     "status": "completed"
    },
    "tags": []
   },
   "outputs": [
    {
     "data": {
      "text/plain": [
       "torch.Size([4, 8, 16])"
      ]
     },
     "execution_count": 18,
     "metadata": {},
     "output_type": "execute_result"
    }
   ],
   "source": [
    "# version 4: self-attention!\n",
    "B,T,C = 4,8,32 # batch, time, channels\n",
    "x = torch.randn(B,T,C)\n",
    "\n",
    "# let's see a single Head perform self-attention\n",
    "head_size = 16\n",
    "key = nn.Linear(C, head_size, bias=False)\n",
    "query = nn.Linear(C, head_size, bias=False)\n",
    "value = nn.Linear(C, head_size, bias=False)\n",
    "k = key(x)   # (B, T, 16)\n",
    "q = query(x) # (B, T, 16)\n",
    "wei =  q @ k.transpose(-2, -1) # (B, T, 16) @ (B, 16, T) ---> (B, T, T)\n",
    "\n",
    "tril = torch.tril(torch.ones(T, T))\n",
    "#wei = torch.zeros((T,T))\n",
    "wei = wei.masked_fill(tril == 0, float('-inf'))\n",
    "wei = F.softmax(wei, dim=-1)\n",
    "\n",
    "v = value(x)\n",
    "out = wei @ v\n",
    "#out = wei @ x\n",
    "\n",
    "out.shape"
   ]
  },
  {
   "cell_type": "markdown",
   "id": "d229c5f7",
   "metadata": {
    "papermill": {
     "duration": 0.016778,
     "end_time": "2024-06-11T22:53:00.196326",
     "exception": false,
     "start_time": "2024-06-11T22:53:00.179548",
     "status": "completed"
    },
    "tags": []
   },
   "source": [
    "Attention is a **communication mechanism**. Can be seen as nodes in a directed graph looking at each other and aggregating information with a weighted sum from all nodes that point to them, with data-dependent weights."
   ]
  },
  {
   "cell_type": "code",
   "execution_count": 19,
   "id": "19da7ddc",
   "metadata": {
    "execution": {
     "iopub.execute_input": "2024-06-11T22:53:00.233581Z",
     "iopub.status.busy": "2024-06-11T22:53:00.232410Z",
     "iopub.status.idle": "2024-06-11T22:53:00.238926Z",
     "shell.execute_reply": "2024-06-11T22:53:00.237873Z"
    },
    "papermill": {
     "duration": 0.02761,
     "end_time": "2024-06-11T22:53:00.241344",
     "exception": false,
     "start_time": "2024-06-11T22:53:00.213734",
     "status": "completed"
    },
    "tags": []
   },
   "outputs": [],
   "source": [
    "k = torch.randn(B,T,head_size)\n",
    "q = torch.randn(B,T,head_size)\n",
    "wei = q @ k.transpose(-2, -1) * head_size**-0.5"
   ]
  },
  {
   "cell_type": "code",
   "execution_count": 20,
   "id": "82ddbe7d",
   "metadata": {
    "execution": {
     "iopub.execute_input": "2024-06-11T22:53:00.277857Z",
     "iopub.status.busy": "2024-06-11T22:53:00.277422Z",
     "iopub.status.idle": "2024-06-11T22:53:00.292209Z",
     "shell.execute_reply": "2024-06-11T22:53:00.290989Z"
    },
    "papermill": {
     "duration": 0.036282,
     "end_time": "2024-06-11T22:53:00.294948",
     "exception": false,
     "start_time": "2024-06-11T22:53:00.258666",
     "status": "completed"
    },
    "tags": []
   },
   "outputs": [
    {
     "data": {
      "text/plain": [
       "torch.Size([32, 100])"
      ]
     },
     "execution_count": 20,
     "metadata": {},
     "output_type": "execute_result"
    }
   ],
   "source": [
    "class LayerNorm1d: # (used to be BatchNorm1d)\n",
    "\n",
    "  def __init__(self, dim, eps=1e-5, momentum=0.1):\n",
    "    self.eps = eps\n",
    "    self.gamma = torch.ones(dim)\n",
    "    self.beta = torch.zeros(dim)\n",
    "\n",
    "  def __call__(self, x):\n",
    "    # calculate the forward pass\n",
    "    xmean = x.mean(1, keepdim=True) # batch mean\n",
    "    xvar = x.var(1, keepdim=True) # batch variance\n",
    "    xhat = (x - xmean) / torch.sqrt(xvar + self.eps) # normalize to unit variance\n",
    "    self.out = self.gamma * xhat + self.beta\n",
    "    return self.out\n",
    "\n",
    "  def parameters(self):\n",
    "    return [self.gamma, self.beta]\n",
    "\n",
    "module = LayerNorm1d(100)\n",
    "x = torch.randn(32, 100) # batch size 32 of 100-dimensional vectors\n",
    "x = module(x)\n",
    "x.shape"
   ]
  },
  {
   "cell_type": "code",
   "execution_count": 21,
   "id": "80f5bf9f",
   "metadata": {
    "execution": {
     "iopub.execute_input": "2024-06-11T22:53:00.332228Z",
     "iopub.status.busy": "2024-06-11T22:53:00.331233Z",
     "iopub.status.idle": "2024-06-11T22:53:00.341800Z",
     "shell.execute_reply": "2024-06-11T22:53:00.340598Z"
    },
    "papermill": {
     "duration": 0.032376,
     "end_time": "2024-06-11T22:53:00.344738",
     "exception": false,
     "start_time": "2024-06-11T22:53:00.312362",
     "status": "completed"
    },
    "tags": []
   },
   "outputs": [
    {
     "data": {
      "text/plain": [
       "(tensor(-2.0862e-08), tensor(1.0000))"
      ]
     },
     "execution_count": 21,
     "metadata": {},
     "output_type": "execute_result"
    }
   ],
   "source": [
    "x[:,0].mean(), x[:,0].std() # mean,std of one feature across all batch inputs\n",
    "x[0,:].mean(), x[0,:].std() # mean,std of a single input from the batch, of its features"
   ]
  },
  {
   "cell_type": "markdown",
   "id": "b5aafae3",
   "metadata": {
    "papermill": {
     "duration": 0.017745,
     "end_time": "2024-06-11T22:53:00.380421",
     "exception": false,
     "start_time": "2024-06-11T22:53:00.362676",
     "status": "completed"
    },
    "tags": []
   },
   "source": [
    "# Remaking Model"
   ]
  },
  {
   "cell_type": "code",
   "execution_count": 22,
   "id": "d48f412a",
   "metadata": {
    "execution": {
     "iopub.execute_input": "2024-06-11T22:53:00.419319Z",
     "iopub.status.busy": "2024-06-11T22:53:00.418919Z",
     "iopub.status.idle": "2024-06-11T23:00:19.597505Z",
     "shell.execute_reply": "2024-06-11T23:00:19.596226Z"
    },
    "papermill": {
     "duration": 439.225403,
     "end_time": "2024-06-11T23:00:19.623831",
     "exception": false,
     "start_time": "2024-06-11T22:53:00.398428",
     "status": "completed"
    },
    "tags": []
   },
   "outputs": [
    {
     "name": "stdout",
     "output_type": "stream",
     "text": [
      "0.209729 M parameters\n",
      "step 0: train loss 4.2826, val loss 4.2839\n",
      "step 100: train loss 2.6554, val loss 2.6635\n",
      "step 200: train loss 2.5098, val loss 2.5090\n",
      "step 300: train loss 2.4190, val loss 2.4304\n",
      "step 400: train loss 2.3530, val loss 2.3676\n",
      "step 500: train loss 2.3048, val loss 2.3038\n",
      "step 600: train loss 2.2451, val loss 2.2536\n",
      "step 700: train loss 2.2090, val loss 2.2159\n",
      "step 800: train loss 2.1656, val loss 2.1882\n",
      "step 900: train loss 2.1274, val loss 2.1757\n",
      "step 1000: train loss 2.1018, val loss 2.1339\n",
      "step 1100: train loss 2.0549, val loss 2.1146\n",
      "step 1200: train loss 2.0526, val loss 2.1136\n",
      "step 1300: train loss 2.0144, val loss 2.0777\n",
      "step 1400: train loss 1.9784, val loss 2.0578\n",
      "step 1500: train loss 1.9711, val loss 2.0321\n",
      "step 1600: train loss 1.9570, val loss 2.0390\n",
      "step 1700: train loss 1.9261, val loss 2.0073\n",
      "step 1800: train loss 1.9134, val loss 1.9969\n",
      "step 1900: train loss 1.8831, val loss 1.9795\n",
      "step 2000: train loss 1.8766, val loss 1.9697\n",
      "step 2100: train loss 1.8660, val loss 1.9698\n",
      "step 2200: train loss 1.8580, val loss 1.9597\n",
      "step 2300: train loss 1.8414, val loss 1.9500\n",
      "step 2400: train loss 1.8321, val loss 1.9458\n",
      "step 2500: train loss 1.8086, val loss 1.9331\n",
      "step 2600: train loss 1.8024, val loss 1.9289\n",
      "step 2700: train loss 1.8012, val loss 1.9283\n",
      "step 2800: train loss 1.7780, val loss 1.9159\n",
      "step 2900: train loss 1.7677, val loss 1.8963\n",
      "step 3000: train loss 1.7610, val loss 1.9046\n",
      "step 3100: train loss 1.7559, val loss 1.9159\n",
      "step 3200: train loss 1.7424, val loss 1.8812\n",
      "step 3300: train loss 1.7429, val loss 1.8730\n",
      "step 3400: train loss 1.7195, val loss 1.8694\n",
      "step 3500: train loss 1.7345, val loss 1.8752\n",
      "step 3600: train loss 1.7210, val loss 1.8594\n",
      "step 3700: train loss 1.7144, val loss 1.8608\n",
      "step 3800: train loss 1.7093, val loss 1.8549\n",
      "step 3900: train loss 1.6958, val loss 1.8489\n",
      "step 4000: train loss 1.6957, val loss 1.8631\n",
      "step 4100: train loss 1.6937, val loss 1.8516\n",
      "step 4200: train loss 1.6901, val loss 1.8315\n",
      "step 4300: train loss 1.6851, val loss 1.8394\n",
      "step 4400: train loss 1.6754, val loss 1.8306\n",
      "step 4500: train loss 1.6739, val loss 1.8329\n",
      "step 4600: train loss 1.6680, val loss 1.8242\n",
      "step 4700: train loss 1.6668, val loss 1.8201\n",
      "step 4800: train loss 1.6586, val loss 1.8285\n",
      "step 4900: train loss 1.6613, val loss 1.8109\n",
      "step 4999: train loss 1.6513, val loss 1.8186\n",
      "\n",
      "But id spititles my sin:\n",
      "Nor say thuse all Greast Wibe one with rest-flaser with hander the truth;\n",
      "That sain beet ockorsel, condo's from in ex-can moin. You, I'll say?' yet it that\n",
      "his bratch dost; if anceple die your, if a posior, to doreset,-but born!\n",
      "Of Who backsed in nurseld succip proont your prease.\n",
      "ARD ICHAS:\n",
      "Yet you fuplances,\n",
      "Sold with seek oder parces, thou pause. Nay, as honour wast!\n",
      "\n",
      "VOLARENIUS:\n",
      "Noble! Come you honour to stadact town, Bectisling wilt-vereful\n",
      "With you that erthem.' with you: no, an I have shook ever all high in\n",
      "toown thygy fing comtatars: you upue!\n",
      "'DIANNE:\n",
      "Lord, she refuse had, say, to your grace, by Taftild honour to hide,\n",
      "That's a lie offect-trust shorat's way;\n",
      "And, so, a not on will lickly make.\n",
      "\n",
      "KING RICHARD III:\n",
      "What he art the is our the vast you.\n",
      "\n",
      "DUKE VINCENENTIO:\n",
      "The what kill this leadious art i\n",
      "whips gonseds in this oursire lost siding.\n",
      "\n",
      "YORK:\n",
      "This no such awhere, you ertrest, or to rest\n",
      "If that wix ourshick. \n",
      "COMINTESBETH:\n",
      "His you miss kes.\n",
      "They worshal, or you yar countion your dunambly to Serverous and charries of fllower.\n",
      "3 ANNE:\n",
      "Nou prohines, yar, sand Jule of the vale,\n",
      "Which think inulst my of did oner's their grief.\n",
      "All the took blood nurse lord pose\n",
      "Clorce, wall, What not palt!\n",
      "BRUSCHIO: what's yet; that was is my frothers, ignorine;\n",
      "Or heresole fail oque us, I knots on nece of York your thurtped\n",
      "Ty bluke the too thy, let eye.\n",
      "\n",
      "LEONTES:\n",
      "Nay, had beggain Guirt, make trece?\n",
      "\n",
      "LADY:\n",
      "The sibe yone shumb't tranges I-prock,\n",
      "And mown enger all death. And aisul: is the kang's be wafe\n",
      "Which prooks way. Your doth, I let cargel:\n",
      "Wish is trumpe slord batters, I'll\n",
      "BRAKENBY VALET:\n",
      "Make youx years coul not felll:\n",
      "Alianle sutes que!' gracieving agains.\n",
      "\n",
      "BRUTUS:\n",
      "Whet hath gards restned: If thy thange swears;\n",
      "That beholy aseath moreshire, to the counter,\n",
      "And me heart shole hind his pride-again to be her son.\n",
      "\n",
      "LUCENTESTER:\n",
      "Whath, but sames of that your shaves earth aguid me\n",
      "With our slecturacied upsel: my sainy of poated with us\n",
      "My sloly\n"
     ]
    }
   ],
   "source": [
    "import numpy as np\n",
    "import pandas as pd\n",
    "import os\n",
    "import torch\n",
    "import torch.nn as nn\n",
    "from torch.nn import functional as F\n",
    "\n",
    "# hyperparameters\n",
    "batch_size = 16 # how many independent sequences will we process in parallel?\n",
    "block_size = 32 # what is the maximum context length for predictions?\n",
    "max_iters = 5000\n",
    "eval_interval = 100\n",
    "learning_rate = 1e-3\n",
    "device = 'cuda' if torch.cuda.is_available() else 'cpu'\n",
    "eval_iters = 200\n",
    "n_embd = 64\n",
    "n_head = 4\n",
    "n_layer = 4\n",
    "dropout = 0.0\n",
    "# ------------\n",
    "\n",
    "text = open('../input/shakespeare/text.txt').read() \n",
    "\n",
    "# here are all the unique characters that occur in this text\n",
    "chars = sorted(list(set(text)))\n",
    "vocab_size = len(chars)\n",
    "# create a mapping from characters to integers\n",
    "stoi = { ch:i for i,ch in enumerate(chars) }\n",
    "itos = { i:ch for i,ch in enumerate(chars) }\n",
    "encode = lambda s: [stoi[c] for c in s] # encoder: take a string, output a list of integers\n",
    "decode = lambda l: ''.join([itos[i] for i in l]) # decoder: take a list of integers, output a string\n",
    "\n",
    "# Train and test splits\n",
    "data = torch.tensor(encode(text), dtype=torch.long)\n",
    "n = int(0.9*len(data)) # first 90% will be train, rest val\n",
    "train_data = data[:n]\n",
    "val_data = data[n:]\n",
    "\n",
    "# data loading\n",
    "def get_batch(split):\n",
    "    # generate a small batch of data of inputs x and targets y\n",
    "    data = train_data if split == 'train' else val_data\n",
    "    ix = torch.randint(len(data) - block_size, (batch_size,))\n",
    "    x = torch.stack([data[i:i+block_size] for i in ix])\n",
    "    y = torch.stack([data[i+1:i+block_size+1] for i in ix])\n",
    "    x, y = x.to(device), y.to(device)\n",
    "    return x, y\n",
    "\n",
    "@torch.no_grad()\n",
    "def estimate_loss():\n",
    "    out = {}\n",
    "    model.eval()\n",
    "    for split in ['train', 'val']:\n",
    "        losses = torch.zeros(eval_iters)\n",
    "        for k in range(eval_iters):\n",
    "            X, Y = get_batch(split)\n",
    "            logits, loss = model(X, Y)\n",
    "            losses[k] = loss.item()\n",
    "        out[split] = losses.mean()\n",
    "    model.train()\n",
    "    return out\n",
    "\n",
    "class Head(nn.Module):\n",
    "    \"\"\" one head of self-attention \"\"\"\n",
    "\n",
    "    def __init__(self, head_size):\n",
    "        super().__init__()\n",
    "        self.key = nn.Linear(n_embd, head_size, bias=False)\n",
    "        self.query = nn.Linear(n_embd, head_size, bias=False)\n",
    "        self.value = nn.Linear(n_embd, head_size, bias=False)\n",
    "        self.register_buffer('tril', torch.tril(torch.ones(block_size, block_size)))\n",
    "\n",
    "        self.dropout = nn.Dropout(dropout)\n",
    "\n",
    "    def forward(self, x):\n",
    "        B,T,C = x.shape\n",
    "        k = self.key(x)   # (B,T,C)\n",
    "        q = self.query(x) # (B,T,C)\n",
    "        # compute attention scores (\"affinities\")\n",
    "        wei = q @ k.transpose(-2,-1) * C**-0.5 # (B, T, C) @ (B, C, T) -> (B, T, T)\n",
    "        wei = wei.masked_fill(self.tril[:T, :T] == 0, float('-inf')) # (B, T, T)\n",
    "        wei = F.softmax(wei, dim=-1) # (B, T, T)\n",
    "        wei = self.dropout(wei)\n",
    "        # perform the weighted aggregation of the values\n",
    "        v = self.value(x) # (B,T,C)\n",
    "        out = wei @ v # (B, T, T) @ (B, T, C) -> (B, T, C)\n",
    "        return out\n",
    "\n",
    "class MultiHeadAttention(nn.Module):\n",
    "    \"\"\" multiple heads of self-attention in parallel \"\"\"\n",
    "\n",
    "    def __init__(self, num_heads, head_size):\n",
    "        super().__init__()\n",
    "        self.heads = nn.ModuleList([Head(head_size) for _ in range(num_heads)])\n",
    "        self.proj = nn.Linear(n_embd, n_embd)\n",
    "        self.dropout = nn.Dropout(dropout)\n",
    "\n",
    "    def forward(self, x):\n",
    "        out = torch.cat([h(x) for h in self.heads], dim=-1)\n",
    "        out = self.dropout(self.proj(out))\n",
    "        return out\n",
    "\n",
    "class FeedFoward(nn.Module):\n",
    "    \"\"\" a simple linear layer followed by a non-linearity \"\"\"\n",
    "\n",
    "    def __init__(self, n_embd):\n",
    "        super().__init__()\n",
    "        self.net = nn.Sequential(\n",
    "            nn.Linear(n_embd, 4 * n_embd),\n",
    "            nn.ReLU(),\n",
    "            nn.Linear(4 * n_embd, n_embd),\n",
    "            nn.Dropout(dropout),\n",
    "        )\n",
    "\n",
    "    def forward(self, x):\n",
    "        return self.net(x)\n",
    "\n",
    "class Block(nn.Module):\n",
    "    \"\"\" Transformer block: communication followed by computation \"\"\"\n",
    "\n",
    "    def __init__(self, n_embd, n_head):\n",
    "        # n_embd: embedding dimension, n_head: the number of heads we'd like\n",
    "        super().__init__()\n",
    "        head_size = n_embd // n_head\n",
    "        self.sa = MultiHeadAttention(n_head, head_size)\n",
    "        self.ffwd = FeedFoward(n_embd)\n",
    "        self.ln1 = nn.LayerNorm(n_embd)\n",
    "        self.ln2 = nn.LayerNorm(n_embd)\n",
    "\n",
    "    def forward(self, x):\n",
    "        x = x + self.sa(self.ln1(x))\n",
    "        x = x + self.ffwd(self.ln2(x))\n",
    "        return x\n",
    "\n",
    "# super simple bigram model\n",
    "class BigramLanguageModel(nn.Module):\n",
    "\n",
    "    def __init__(self):\n",
    "        super().__init__()\n",
    "        # each token directly reads off the logits for the next token from a lookup table\n",
    "        self.token_embedding_table = nn.Embedding(vocab_size, n_embd)\n",
    "        self.position_embedding_table = nn.Embedding(block_size, n_embd)\n",
    "        self.blocks = nn.Sequential(*[Block(n_embd, n_head=n_head) for _ in range(n_layer)])\n",
    "        self.ln_f = nn.LayerNorm(n_embd) # final layer norm\n",
    "        self.lm_head = nn.Linear(n_embd, vocab_size)\n",
    "\n",
    "    def forward(self, idx, targets=None):\n",
    "        B, T = idx.shape\n",
    "\n",
    "        # idx and targets are both (B,T) tensor of integers\n",
    "        tok_emb = self.token_embedding_table(idx) # (B,T,C)\n",
    "        pos_emb = self.position_embedding_table(torch.arange(T, device=device)) # (T,C)\n",
    "        x = tok_emb + pos_emb # (B,T,C)\n",
    "        x = self.blocks(x) # (B,T,C)\n",
    "        x = self.ln_f(x) # (B,T,C)\n",
    "        logits = self.lm_head(x) # (B,T,vocab_size)\n",
    "\n",
    "        if targets is None:\n",
    "            loss = None\n",
    "        else:\n",
    "            B, T, C = logits.shape\n",
    "            logits = logits.view(B*T, C)\n",
    "            targets = targets.view(B*T)\n",
    "            loss = F.cross_entropy(logits, targets)\n",
    "\n",
    "        return logits, loss\n",
    "\n",
    "    def generate(self, idx, max_new_tokens):\n",
    "        # idx is (B, T) array of indices in the current context\n",
    "        for _ in range(max_new_tokens):\n",
    "            # crop idx to the last block_size tokens\n",
    "            idx_cond = idx[:, -block_size:]\n",
    "            # get the predictions\n",
    "            logits, loss = self(idx_cond)\n",
    "            # focus only on the last time step\n",
    "            logits = logits[:, -1, :] # becomes (B, C)\n",
    "            # apply softmax to get probabilities\n",
    "            probs = F.softmax(logits, dim=-1) # (B, C)\n",
    "            # sample from the distribution\n",
    "            idx_next = torch.multinomial(probs, num_samples=1) # (B, 1)\n",
    "            # append sampled index to the running sequence\n",
    "            idx = torch.cat((idx, idx_next), dim=1) # (B, T+1)\n",
    "        return idx\n",
    "\n",
    "model = BigramLanguageModel()\n",
    "m = model.to(device)\n",
    "# print the number of parameters in the model\n",
    "print(sum(p.numel() for p in m.parameters())/1e6, 'M parameters')\n",
    "\n",
    "# create a PyTorch optimizer\n",
    "optimizer = torch.optim.AdamW(model.parameters(), lr=learning_rate)\n",
    "\n",
    "for iter in range(max_iters):\n",
    "\n",
    "    # every once in a while evaluate the loss on train and val sets\n",
    "    if iter % eval_interval == 0 or iter == max_iters - 1:\n",
    "        losses = estimate_loss()\n",
    "        print(f\"step {iter}: train loss {losses['train']:.4f}, val loss {losses['val']:.4f}\")\n",
    "\n",
    "    # sample a batch of data\n",
    "    xb, yb = get_batch('train')\n",
    "\n",
    "    # evaluate the loss\n",
    "    logits, loss = model(xb, yb)\n",
    "    optimizer.zero_grad(set_to_none=True)\n",
    "    loss.backward()\n",
    "    optimizer.step()\n",
    "\n",
    "# generate from the model\n",
    "context = torch.zeros((1, 1), dtype=torch.long, device=device)\n",
    "print(decode(m.generate(context, max_new_tokens=2000)[0].tolist()))\n"
   ]
  }
 ],
 "metadata": {
  "kaggle": {
   "accelerator": "none",
   "dataSources": [
    {
     "datasetId": 5158353,
     "sourceId": 8618118,
     "sourceType": "datasetVersion"
    }
   ],
   "dockerImageVersionId": 30732,
   "isGpuEnabled": false,
   "isInternetEnabled": true,
   "language": "python",
   "sourceType": "notebook"
  },
  "kernelspec": {
   "display_name": "Python 3",
   "language": "python",
   "name": "python3"
  },
  "language_info": {
   "codemirror_mode": {
    "name": "ipython",
    "version": 3
   },
   "file_extension": ".py",
   "mimetype": "text/x-python",
   "name": "python",
   "nbconvert_exporter": "python",
   "pygments_lexer": "ipython3",
   "version": "3.10.13"
  },
  "papermill": {
   "default_parameters": {},
   "duration": 507.259793,
   "end_time": "2024-06-11T23:00:20.875069",
   "environment_variables": {},
   "exception": null,
   "input_path": "__notebook__.ipynb",
   "output_path": "__notebook__.ipynb",
   "parameters": {},
   "start_time": "2024-06-11T22:51:53.615276",
   "version": "2.5.0"
  }
 },
 "nbformat": 4,
 "nbformat_minor": 5
}
